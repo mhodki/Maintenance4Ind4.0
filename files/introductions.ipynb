{
 "cells": [
  {
   "cell_type": "markdown",
   "metadata": {},
   "source": [
    "# Asset maintenance fundamentals for data scientists.\n",
    "\n",
    "## Why this program? \n",
    "\n",
    "Maintenance of assets is a significant cost input for the manufacturing, resources, defence and infrastructure sectors. Maintenance costs typically range between 20–60\\% of operational expenditure depending on industry and asset type. There has been significant effort in the last decade to move from reactive to preventative and predictive maintenance strategies propelled by developments in sensing, WiFi, cloud computing, and data analytics. However, generating value from analytics using these platforms has often proved challenging for a number of reasons (see list of useful references below). However one unexplored reason is that what happens in maintenance and the way maintenance management is structured and run inside organisations is not clear to non-maintenance people. This leads to poor decisions being made on what problems to focus on, with many apparently 'killer apps' being impossible to implement or sustain in the real world. \n",
    "\n",
    "## Goal of the program\n",
    "\n",
    "Our goal is to assist data science professionals to understand 1) how the algorithms and models they develop support decision making and 2) the context generating the data used, and 3) how decisions in maintenance are made.\n",
    "\n",
    "## Learning outcomes\n",
    "\n",
    "* Identify steps in the maintenance work management process. \n",
    "* Describe key elements of maintenance strategy development and assessment process.\n",
    "* Understand where and how data, commonly used for maintenance models, is generated. \n",
    "* Discuss when, and why, predictive maintenance is an appropriate strategy and when it is not.\n",
    "* Understand opportunities for natural language and ontologies use on maintenance texts.\n",
    "\n",
    "## Audience for the program\n",
    "\n",
    "Data scientists working on classification, prediction and information extraction from maintenance data sources in any asset class (infrastucture, manufacturing, process, mobile etc.) \n",
    "\n",
    "## Background\n",
    "\n",
    "This 8 hour course was developed by [Professor Melinda Hodkiewicz](https://research-repository.uwa.edu.au/en/persons/melinda-hodkiewicz) as part of a sabattical visit to Professor Hedi Karray at ENIT in Tarbes France in 2023. The material was delivered as part of unit NDENI-EC0112M4 - Innovation management. \n",
    "\n",
    "## About your presenter\n",
    "\n",
    "### Professor Melinda Hodkiewicz: \n",
    "\n",
    "Maintenance | Reliability, Risk and Safety | Asset Management - Professor\n",
    "[Profile](https://research-repository.uwa.edu.au/en/persons/melinda-hodkiewicz)\n",
    "[LinkedIn](https://www.linkedin.com/in/melinda-hodkiewicz-b6bbba7/)\n",
    "[Google Scholar](https://scholar.google.com/citations?hl=en&user=1JGboosAAAAJ)\n",
    "\n",
    "## About you\n",
    "\n",
    "Tell me something of yourself.\n",
    "* Name\n",
    "* Briefly - why are you doing this unit?\n",
    "* Have you had any experience working in industry?\n",
    "* Have you worked with asset maintenance data before?\n",
    "\n"
   ]
  }
 ],
 "metadata": {
  "kernelspec": {
   "display_name": "Python 3 (ipykernel)",
   "language": "python",
   "name": "python3"
  },
  "language_info": {
   "codemirror_mode": {
    "name": "ipython",
    "version": 3
   },
   "file_extension": ".py",
   "mimetype": "text/x-python",
   "name": "python",
   "nbconvert_exporter": "python",
   "pygments_lexer": "ipython3",
   "version": "3.10.4"
  },
  "vscode": {
   "interpreter": {
    "hash": "26de051ba29f2982a8de78e945f0abaf191376122a1563185a90213a26c5da77"
   }
  }
 },
 "nbformat": 4,
 "nbformat_minor": 2
}
